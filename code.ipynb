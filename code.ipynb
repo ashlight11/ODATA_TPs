{
 "cells": [
  {
   "cell_type": "markdown",
   "metadata": {},
   "source": [
    "### In this code, I use log as ln."
   ]
  },
  {
   "cell_type": "code",
   "execution_count": 1,
   "metadata": {},
   "outputs": [],
   "source": [
    "import numpy as np\n",
    "import math\n"
   ]
  },
  {
   "cell_type": "code",
   "execution_count": 3,
   "metadata": {},
   "outputs": [
    {
     "name": "stdout",
     "output_type": "stream",
     "text": [
      "0.9999999999999999\n",
      "b =  0.20464165640900608\n"
     ]
    }
   ],
   "source": [
    "n = 64\n",
    "#pas = 0.01\n",
    "\n",
    "eps = 10e-12\n",
    "x0 = np.ones([n])\n",
    "ro = np.array([])\n",
    "for i in range(n):\n",
    "    # compute the costs\n",
    "    tmp = 1- math.exp(-(i+1)*0.02) # note that i takes values from 0 to (n-1) \n",
    "    ro = np.append(ro,tmp)\n",
    "    # compute the probabilities\n",
    "    x0[i] = math.exp(-(i+1)*0.08) # note that i takes values from 0 to (n-1) \n",
    "    \n",
    "#print(ro)\n",
    "x0 = x0/np.sum(x0) # fit the probabilities so that sum x0 = 1\n",
    "#print(x0)\n",
    "print(np.sum(x0)) \n",
    "#print(np.dot(x0,ro))\n",
    "b = np.dot(x0,ro)\n",
    "print(\"b = \", b)\n",
    "#print(math.log(x0[1]))"
   ]
  },
  {
   "cell_type": "code",
   "execution_count": 18,
   "metadata": {},
   "outputs": [
    {
     "name": "stdout",
     "output_type": "stream",
     "text": [
      "f0 at x0 :  -3.489220131238525\n"
     ]
    }
   ],
   "source": [
    "def func(x):\n",
    "    f = np.zeros([n])\n",
    "    for i in range(n):\n",
    "        f[i] = x[i]*math.log(x[i]) \n",
    "    return np.sum(f)\n",
    "print(\"f0 at x0 : \", func(x0))\n",
    "\n",
    "def gradf(x):\n",
    "    df = np.zeros([n])\n",
    "    for i in range(n):\n",
    "        df[i] = math.log(x[i])+1    \n",
    "    return df.transpose()\n",
    "#print(\"grad f at x0 : \", gradf(x0))\n",
    "\n",
    "def Hf(x):\n",
    "    H = np.zeros([n, n])\n",
    "    for i in range(n):\n",
    "        #H[i][i] = 1/x[i]\n",
    "        H[i,i] = 1/x[i]\n",
    "    return H\n",
    "#print(\"Hf: \",Hf(x0))\n",
    "Hf0 = Hf(x0)\n",
    "# A is the Affine equality constraint\n",
    "A = np.ones([2, n])\n",
    "A[1,:] = ro \n",
    "#print(\"A=\",A)\n",
    "#print(A[0,:].transpose())\n",
    "def Matrix(Hf,A):\n",
    "    M = np.zeros([n+2, n+2])\n",
    "    M[0:n,0:n] = Hf\n",
    "    #print(\"Hf before for loop :\\n\", M) \n",
    "    for i in range(n):\n",
    "        M[i,n]= 1\n",
    "        M[i,n+1]= ro[i]\n",
    "        M[n,i]= 1\n",
    "        M[n+1,i]= ro[i]\n",
    "    return M\n",
    "M = Matrix(Hf0,A) # matrix to invert, block matrix\n",
    "#print(\"after : \\n\", M)"
   ]
  },
  {
   "cell_type": "markdown",
   "metadata": {},
   "source": [
    "# Wolfe condition"
   ]
  },
  {
   "cell_type": "code",
   "execution_count": 10,
   "metadata": {},
   "outputs": [],
   "source": [
    "def phi(x,t,direction):\n",
    "    tmp = x + t*direction\n",
    "    p = func(tmp)\n",
    "    #x = np.array([x1, x2])\n",
    "    #tmp = np.dot(x.transpose(),P)\n",
    "    #f = np.dot(tmp,x)/2-np.dot(q.transpose(),x)\n",
    "    return p"
   ]
  },
  {
   "cell_type": "code",
   "execution_count": 11,
   "metadata": {},
   "outputs": [],
   "source": [
    "alpha = 0.2\n",
    "beta = 0.6\n",
    "def First_Wolfe(alpha,beta,dphi0,x,t,direction):\n",
    "    LHS = phi(x,t,direction)\n",
    "    RHS = phi(x,0,direction) + alpha*dphi0*t\n",
    "    while (LHS > RHS):\n",
    "        t = t*beta\n",
    "        xx = x + t*direction\n",
    "        LHS = phi(xx,t,direction)\n",
    "        RHS = phi(x,0,direction) + alpha*dphi0*t\n",
    "    return t"
   ]
  },
  {
   "cell_type": "markdown",
   "metadata": {},
   "source": [
    "# Newton's Method for Affine Equality Constraints"
   ]
  },
  {
   "cell_type": "code",
   "execution_count": 19,
   "metadata": {},
   "outputs": [
    {
     "name": "stdout",
     "output_type": "stream",
     "text": [
      "pas :  1\n",
      "pas :  1\n",
      "pas :  1\n",
      "pas :  1\n",
      "pas :  0.36\n",
      "Niter:  5\n",
      "fmin =  -3.4999424260009047\n",
      "Entrpoy = fmax =  3.4999424260009047\n",
      "sum(xopt) =  1.0\n",
      "<xopta,ro> =  0.20464165640900595\n",
      "b =  0.20464165640900608\n"
     ]
    }
   ],
   "source": [
    "Hfk = Hf(x0)\n",
    "Hfinv = np.linalg.inv(Hfk)\n",
    "#print(Hf0inv)\n",
    "#dx = -Hf0inv*(gradf(x0).transpose())\n",
    "gradfk = gradf(x0)\n",
    "dx = -np.dot(Hfinv,gradfk)\n",
    "#print(dx)\n",
    "criterion = np.dot(np.dot(dx,Hfk),dx)/2\n",
    "#print(\"criterion: \",criterion)\n",
    "xk = x0\n",
    "i = 0\n",
    "t = 1\n",
    "\n",
    "while (criterion > eps):\n",
    "#for i in range(1):\n",
    "    M = Matrix(Hfk,A)\n",
    "    invM = np.linalg.inv(M)\n",
    "    arr_tmp = np.array([0, 0])\n",
    "    TT = np.append(gradfk,arr_tmp)\n",
    "    C =  -np.dot(invM,TT)\n",
    "    #print(C)\n",
    "    dxk = C[0:n]\n",
    "    #print(dxk)\n",
    "    vk = C[n:n+1]\n",
    "    #print(vk)\n",
    "    ## Use Wolfe condition to search for the step (le pas)\n",
    "    t = 1\n",
    "    dphi0 =  np.dot(gradfk.transpose(),dxk)\n",
    "    pas = First_Wolfe(alpha,beta,dphi0,xk,t,dxk)\n",
    "    print(\"pas : \", pas)\n",
    "    xopta = xk\n",
    "    #print(np.dot(A,dxk))\n",
    "    #print(\"b:\",np.dot(A,xk))\n",
    "    #print(\"sum(xk)\",np.sum(xk))\n",
    "    ##update\n",
    "    xk = xk + pas*dxk\n",
    "    gradfk = gradf(xk)\n",
    "    #print(func(xk))\n",
    "    Hfk = Hf(xk)\n",
    "    criterion = np.dot(np.dot(dxk,Hfk),dxk)/2\n",
    "    i = i +1\n",
    "    Niter = i\n",
    "    #print(\"Niter: \",Niter)\n",
    "    #xopta = xk\n",
    "    \n",
    "print(\"Niter: \",Niter)\n",
    "#print(\"xopt: \",xopta)\n",
    "fopt = func(xopta)\n",
    "print('fmin = ', fopt)\n",
    "print('Entrpoy = fmax = ', -fopt)\n",
    "print(\"sum(xopt) = \",np.sum(xopta))\n",
    "print(\"<xopta,ro> = \",np.dot(xopta,ro))\n",
    "print(\"b = \",b)"
   ]
  },
  {
   "cell_type": "code",
   "execution_count": null,
   "metadata": {},
   "outputs": [],
   "source": []
  }
 ],
 "metadata": {
  "kernelspec": {
   "display_name": "Python 3 (ipykernel)",
   "language": "python",
   "name": "python3"
  },
  "language_info": {
   "codemirror_mode": {
    "name": "ipython",
    "version": 3
   },
   "file_extension": ".py",
   "mimetype": "text/x-python",
   "name": "python",
   "nbconvert_exporter": "python",
   "pygments_lexer": "ipython3",
   "version": "3.9.5"
  }
 },
 "nbformat": 4,
 "nbformat_minor": 4
}
