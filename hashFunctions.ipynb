{
 "cells": [
  {
   "cell_type": "code",
   "execution_count": 32,
   "id": "70adb8b0-647c-4b02-8954-d4f2dac59b52",
   "metadata": {},
   "outputs": [],
   "source": [
    "import numpy as np\n",
    "import brute_force as bf\n",
    "import lsh\n",
    "import matplotlib.pyplot as plt"
   ]
  },
  {
   "cell_type": "code",
   "execution_count": 2,
   "id": "2282593a-a700-4a94-8d2e-48b5838f3b83",
   "metadata": {},
   "outputs": [],
   "source": [
    "dataset_vectors_200d = np.load('glove_200d/dataset_glove_200d.npy')\n",
    "dataset_words_200d = np.load('glove_200d/dataset_words_glove_200d.npy')\n",
    "probes_vectors = np.load('glove_200d/probes_glove_200d.npy')\n",
    "probes_words = np.load('glove_200d/probes_words_glove_200d.npy')"
   ]
  },
  {
   "cell_type": "code",
   "execution_count": 25,
   "id": "38926d9a-8fb1-4fb6-bc3a-41797651cd73",
   "metadata": {},
   "outputs": [],
   "source": [
    "k = 1\n",
    "probes_size = len(probes_vectors)\n",
    "results_hash = np.zeros([probes_size, k])\n",
    "results_brute_force = np.zeros([probes_size, k])\n",
    "exact_vectors_found = 0\n",
    "precision = np.zeros(probes_size)\n",
    "fraction = np.zeros(probes_size)\n",
    "w_range = np.array([0.25, 0.5, 0.75, 1.0, 1.25, 1.5, 1.75, 2.0])\n"
   ]
  },
  {
   "cell_type": "code",
   "execution_count": 26,
   "id": "57438a88-0ee4-498e-962c-2d677d7537bc",
   "metadata": {},
   "outputs": [
    {
     "name": "stdout",
     "output_type": "stream",
     "text": [
      "valeur de W :  0.25 \n",
      "Précision de la recherche en %:  9.0 \n",
      "Fraction des données visitées :  2.614108858165033\n",
      "valeur de W :  0.5 \n",
      "Précision de la recherche en %:  23.0 \n",
      "Fraction des données visitées :  18.645537539814192\n",
      "valeur de W :  0.75 \n",
      "Précision de la recherche en %:  45.0 \n",
      "Fraction des données visitées :  31.81319575248194\n",
      "valeur de W :  1.0 \n",
      "Précision de la recherche en %:  56.0 \n",
      "Fraction des données visitées :  55.68896373239496\n",
      "valeur de W :  1.25 \n",
      "Précision de la recherche en %:  69.0 \n",
      "Fraction des données visitées :  67.6927644257783\n",
      "valeur de W :  1.5 \n",
      "Précision de la recherche en %:  77.0 \n",
      "Fraction des données visitées :  76.18469759664009\n",
      "valeur de W :  1.75 \n",
      "Précision de la recherche en %:  82.0 \n",
      "Fraction des données visitées :  81.29089393448919\n",
      "valeur de W :  2.0 \n",
      "Précision de la recherche en %:  87.0 \n",
      "Fraction des données visitées :  85.68525696612083\n"
     ]
    }
   ],
   "source": [
    "for idx, w_values in enumerate(w_range):\n",
    "    LSH_object = lsh.LSH(nb_projections=10, nb_tables=2, w=w_values, seed=0)\n",
    "    LSH_object.fit(dataset_vectors_200d)\n",
    "    exact_vectors_found = 0\n",
    "    for probes_index in range (probes_size - 1):\n",
    "        distances, matches, len_matches = LSH_object.kneighbors(probes_vectors[probes_index], k=k)\n",
    "        #print(distances, matches, len_matches)\n",
    "        results_hash[probes_index] = matches\n",
    "        bf_matches, bf_distances = bf.knn_search(data = dataset_vectors_200d, query = probes_vectors[probes_index], k=k)\n",
    "        results_brute_force[probes_index] = bf_matches\n",
    "        if results_hash[probes_index] == results_brute_force[probes_index] : \n",
    "            exact_vectors_found += 1 \n",
    "    precision[idx] =  exact_vectors_found * 100 / probes_size  \n",
    "    fraction[idx] = len_matches * 100 / len(dataset_words_200d)\n",
    "    print(\"valeur de W : \", w_values, \"\\nPrécision de la recherche en %: \", precision[idx], \"\\nFraction des données visitées : \", fraction[idx])"
   ]
  },
  {
   "cell_type": "code",
   "execution_count": 38,
   "id": "e8d2cc85-01c5-4b18-aaa5-2338a8d4af3c",
   "metadata": {},
   "outputs": [
    {
     "data": {
      "image/png": "[encoded data removed]",
      "text/plain": [
       "<Figure size 432x288 with 2 Axes>"
      ]
     },
     "metadata": {
      "needs_background": "light"
     },
     "output_type": "display_data"
    }
   ],
   "source": [
    "fig, axes = plt.subplots(2)\n",
    "axes[0].plot(w_range, precision[:8], color=\"red\")\n",
    "axes[1].plot(fraction[:8], precision[:8], color=\"green\")\n",
    "plt.show()"
   ]
  },
  {
   "cell_type": "code",
   "execution_count": 40,
   "id": "647c9990-02e7-48ef-89bf-c559117334a2",
   "metadata": {},
   "outputs": [
    {
     "name": "stdout",
     "output_type": "stream",
     "text": [
      "Nombre de tables :  1 \n",
      "Précision de la recherche en %:  50.0 \n",
      "Fraction des données visitées :  41.45774873491925\n",
      "Nombre de tables :  2 \n",
      "Précision de la recherche en %:  56.0 \n",
      "Fraction des données visitées :  55.68896373239496\n",
      "Nombre de tables :  3 \n",
      "Précision de la recherche en %:  51.0 \n",
      "Fraction des données visitées :  38.3358464425946\n",
      "Nombre de tables :  4 \n",
      "Précision de la recherche en %:  69.0 \n",
      "Fraction des données visitées :  37.38349264601053\n",
      "Nombre de tables :  5 \n",
      "Précision de la recherche en %:  81.0 \n",
      "Fraction des données visitées :  65.33812920680234\n",
      "Nombre de tables :  6 \n",
      "Précision de la recherche en %:  75.0 \n",
      "Fraction des données visitées :  57.24916010714399\n"
     ]
    }
   ],
   "source": [
    "nb_tables_range = np.array([i for i in range (1,7)])\n",
    "for idx, nb_tables_values in enumerate(nb_tables_range):\n",
    "    LSH_object = lsh.LSH(nb_projections=10, nb_tables=nb_tables_values, w=1, seed=0)\n",
    "    LSH_object.fit(dataset_vectors_200d)\n",
    "    exact_vectors_found = 0\n",
    "    for probes_index in range (probes_size - 1):\n",
    "        distances, matches, len_matches = LSH_object.kneighbors(probes_vectors[probes_index], k=k)\n",
    "        #print(distances, matches, len_matches)\n",
    "        results_hash[probes_index] = matches\n",
    "        bf_matches, bf_distances = bf.knn_search(data = dataset_vectors_200d, query = probes_vectors[probes_index], k=k)\n",
    "        results_brute_force[probes_index] = bf_matches\n",
    "        if results_hash[probes_index] == results_brute_force[probes_index] : \n",
    "            exact_vectors_found += 1 \n",
    "    precision[idx] =  exact_vectors_found * 100 / probes_size  \n",
    "    fraction[idx] = len_matches * 100 / len(dataset_words_200d)\n",
    "    print(\"Nombre de tables : \", nb_tables_values, \"\\nPrécision de la recherche en %: \", precision[idx], \"\\nFraction des données visitées : \", fraction[idx])"
   ]
  },
  {
   "cell_type": "code",
   "execution_count": 42,
   "id": "b44ddc6f-3199-496a-90c6-0423c2713b80",
   "metadata": {},
   "outputs": [
    {
     "data": {
      "image/png": "[encoded data removed]",
      "text/plain": [
       "<Figure size 432x288 with 2 Axes>"
      ]
     },
     "metadata": {
      "needs_background": "light"
     },
     "output_type": "display_data"
    }
   ],
   "source": [
    "fig, axes = plt.subplots(2)\n",
    "axes[0].plot(nb_tables_range, precision[:6], color=\"red\")\n",
    "axes[1].plot(fraction[:6], precision[:6], color=\"green\")\n",
    "plt.show()"
   ]
  },
  {
   "cell_type": "code",
   "execution_count": null,
   "id": "c243eee0-4b2c-4aac-8be9-06eb4d0ee274",
   "metadata": {},
   "outputs": [],
   "source": [
    "reduced_dataset_vectors = dataset_vectors_200d[:, 50]"
   ]
  }
 ],
 "metadata": {
  "kernelspec": {
   "display_name": "Python 3 (ipykernel)",
   "language": "python",
   "name": "python3"
  },
  "language_info": {
   "codemirror_mode": {
    "name": "ipython",
    "version": 3
   },
   "file_extension": ".py",
   "mimetype": "text/x-python",
   "name": "python",
   "nbconvert_exporter": "python",
   "pygments_lexer": "ipython3",
   "version": "3.9.5"
  }
 },
 "nbformat": 4,
 "nbformat_minor": 5
}
